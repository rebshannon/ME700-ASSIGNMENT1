{
 "cells": [
  {
   "attachments": {},
   "cell_type": "markdown",
   "metadata": {},
   "source": [
    "# Example 1: Simple Polynomial\n",
    "Use Newton's method to find the root of the following equation:\n",
    "$$y=x^3+x-2$$"
   ]
  },
  {
   "cell_type": "code",
   "execution_count": null,
   "metadata": {},
   "outputs": [],
   "source": [
    "# IMPORT necessary pacakges\n",
    "\n",
    "import numpy as np\n",
    "import newtonMethod as newt\n",
    "\n",
    "# DEFINE functions and user inputs\n",
    "\n",
    "x = np.array([2])   # initial guess\n",
    "tol = 1e-9          # tolerance\n",
    "maxIter = 1000      # max number of iterations\n",
    "\n",
    "# function of interest (fnR) and its derivative (fnJ)\n",
    "def fnR(x):\n",
    "    fnR = x**3 - 2 + x\n",
    "    return fnR\n",
    "\n",
    "def fnJ(x):\n",
    "    fnJ = 3*x**2 + 1\n",
    "    return fnJ\n",
    "\n",
    "# CALL Newton's Method solver\n",
    "result = newt.newtonMethodFunc(x,fnR,fnJ,tol,maxIter)\n",
    "\n",
    "# print results\n",
    "print(\"Root: \", result[\"solution\"])\n",
    "print(\"Number of iterations: \", result[\"nIter\"])\n",
    "print(\"Function value at solution: \", result[\"Rfinal\"]) "
   ]
  },
  {
   "attachments": {},
   "cell_type": "markdown",
   "metadata": {},
   "source": [
    "# Example 2: System of Equations\n",
    "\n",
    "Use Newton's method to find the roots of the following equations:\n",
    "$$z = x^3 + y - 2$$\n",
    "$$z = y^3 - x + 3$$"
   ]
  },
  {
   "cell_type": "code",
   "execution_count": null,
   "metadata": {},
   "outputs": [],
   "source": [
    "# IMPORT necessary pacakges\n",
    "\n",
    "import numpy as np\n",
    "import newtonMethod as newt\n",
    "\n",
    "# DEFINE functions and user inputs\n",
    "\n",
    "x = np.array([[2], [4]])    # initial guess\n",
    "tol = 1e-9                  # tolerance\n",
    "maxIter = 1000              # max number of iterations\n",
    "\n",
    "# function of interest (fnR) and its derivative (fnJ)\n",
    "def fnR0(x,y,z=0):\n",
    "    fnR0 = x**3 + y - 2\n",
    "    return fnR0\n",
    "\n",
    "def fnR1(x,y,z=0):\n",
    "    fnR1 = -x + y**3 + 3\n",
    "    return fnR1\n",
    "\n",
    "fnR = [fnR0, fnR1]\n",
    "\n",
    "def fnJ00(x,y,z=0):\n",
    "    fnJ00 = 3*x**2 \n",
    "    return fnJ00\n",
    "\n",
    "def fnJ10(x,y,z=0):\n",
    "    fnJ10 = 1\n",
    "    return fnJ10\n",
    "\n",
    "def fnJ01(x,y,z=0):\n",
    "    fnJ01 = -1\n",
    "    return fnJ01\n",
    "\n",
    "def fnJ11(x,y,z=0):\n",
    "    fnJ11 = 3*y**2\n",
    "    return fnJ11\n",
    "\n",
    "fnJ = [[fnJ00, fnJ01], [fnJ10, fnJ11]]\n",
    "\n",
    "# CALL Newton's Method solver\n",
    "result = newt.newtonMethodFunc(x,fnR,fnJ,tol,maxIter)\n",
    "\n",
    "# print results\n",
    "print(\"Root: \", result[\"solution\"])\n",
    "print(\"Number of iterations: \", result[\"nIter\"])\n",
    "print(\"Function value at solution: \", result[\"Rfinal\"]) "
   ]
  },
  {
   "attachments": {},
   "cell_type": "markdown",
   "metadata": {},
   "source": [
    "# Example 3: \n"
   ]
  }
 ],
 "metadata": {
  "kernelspec": {
   "display_name": "A1-bisection-method-env",
   "language": "python",
   "name": "python3"
  },
  "language_info": {
   "name": "python",
   "version": "3.12.8"
  },
  "orig_nbformat": 4
 },
 "nbformat": 4,
 "nbformat_minor": 2
}
