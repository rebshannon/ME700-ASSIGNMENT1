{
 "cells": [
  {
   "cell_type": "code",
   "execution_count": null,
   "metadata": {},
   "outputs": [],
   "source": [
    "import numpy as np\n",
    "from elastoPlasticClassTest import IsotropicHardening as IP\n",
    "import matplotlib.pyplot as plt\n",
    "\n",
    "strain_1 = np.linspace(0,0.05,1000)\n",
    "strain_2 = np.linspace(0.05,-0.05,2000)\n",
    "strain_3 = np.linspace(-0.05,0.075,2500)\n",
    "strain_4 = np.linspace(0.075,-0.025,2000)\n",
    "total_epsilon = np.concatenate((strain_1,strain_2,strain_3,strain_4),axis=0)\n",
    "\n",
    "E = 1000\n",
    "E_t = 100\n",
    "H = E*E_t/(E-E_t)\n",
    "\n",
    "isoHardening = IP(E=1000,H=H,Y_o = 10)\n",
    "\n",
    "stress_list = isoHardening.run_model(epsilon_step = total_epsilon)\n",
    "\n",
    "fix,ax = plt.subplots(ncols=1,nrows=1,figsize=(9,6))\n",
    "\n",
    "ax.plot(total_epsilon,stress_list)\n",
    "#ax.plot(strain_list,stress_list)\n"
   ]
  },
  {
   "cell_type": "code",
   "execution_count": null,
   "metadata": {},
   "outputs": [],
   "source": [
    "import numpy as np\n",
    "from elastoPlasticClassTest import kinemticHardening as KH\n",
    "import matplotlib.pyplot as plt\n",
    "\n",
    "strain_1 = np.linspace(0,0.05,1000)\n",
    "strain_2 = np.linspace(0.05,-0.05,2000)\n",
    "strain_3 = np.linspace(-0.05,0.075,2500)\n",
    "strain_4 = np.linspace(0.075,-0.025,2000)\n",
    "total_epsilon = np.concatenate((strain_1,strain_2,strain_3,strain_4),axis=0)\n",
    "\n",
    "E = 1000\n",
    "E_t = 100\n",
    "H = E*E_t/(E-E_t)\n",
    "\n",
    "kinHardening = KH(E=1000,H=H,Y_o = 10)\n",
    "\n",
    "stress_list = kinHardening.run_model(epsilon_step = total_epsilon)\n",
    "\n",
    "fix,ax = plt.subplots(ncols=1,nrows=1,figsize=(9,6))\n",
    "\n",
    "ax.plot(total_epsilon,stress_list)\n"
   ]
  }
 ],
 "metadata": {
  "kernelspec": {
   "display_name": "A1-bisection-method-env",
   "language": "python",
   "name": "python3"
  },
  "language_info": {
   "codemirror_mode": {
    "name": "ipython",
    "version": 3
   },
   "file_extension": ".py",
   "mimetype": "text/x-python",
   "name": "python",
   "nbconvert_exporter": "python",
   "pygments_lexer": "ipython3",
   "version": "3.12.8"
  },
  "orig_nbformat": 4
 },
 "nbformat": 4,
 "nbformat_minor": 2
}
