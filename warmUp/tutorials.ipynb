{
 "cells": [
  {
   "cell_type": "markdown",
   "metadata": {},
   "source": [
    "# Examples for the bisection method code\n",
    "\n",
    "## Example 1\n",
    "Use the bisection method to find the root of the following equation:  \n",
    "$$y = x^3 + 3x - 1$$\n"
   ]
  },
  {
   "cell_type": "code",
   "execution_count": null,
   "metadata": {
    "vscode": {
     "languageId": "plaintext"
    }
   },
   "outputs": [],
   "source": [
    "# import necessary functions \n",
    "import bisectionMethod as bim\n",
    "import numpy as np\n",
    "\n",
    "# "
   ]
  }
 ],
 "metadata": {
  "language_info": {
   "name": "python"
  }
 },
 "nbformat": 4,
 "nbformat_minor": 2
}
